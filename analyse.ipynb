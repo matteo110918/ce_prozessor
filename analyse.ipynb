{
    "cells": [
        {
            "cell_type": "code",
            "execution_count": 1,
            "metadata": {
                "azdata_cell_guid": "172d5dba-e5bd-4d23-8dbd-4b623dfa18f2",
                "language": "python"
            },
            "outputs": [],
            "source": [
                "import pandas as pd\n",
                "import chardet\n",
                "from datetime import datetime"
            ]
        },
        {
            "cell_type": "code",
            "execution_count": 2,
            "metadata": {
                "azdata_cell_guid": "1a58bd47-4957-4944-857e-3894c8b79add",
                "language": "python",
                "tags": []
            },
            "outputs": [],
            "source": [
                "# Define the paths\n",
                "file_path_ceramic = 'data/Spare part catalog - Ceramics.txt'\n",
                "file_path_corrugated = 'data/Spare part catalog - Corrugated Single Pass.txt'\n",
                "file_path_habitat_varijet = 'data/Spare part catalog - Habitat and Varijet.txt'\n",
                "file_path_label = 'data/Spare part catalog - Label.txt'\n",
                "file_path_lfp_graphics = 'data/Spare part catalog - LFP and Graphics.txt'\n",
                "file_path_lfp_peripherie = 'data/Spare part catalog_LFP_Peripherie.txt'\n",
                "\n",
                "path_list = [file_path_corrugated, file_path_habitat_varijet, file_path_label, file_path_lfp_graphics, file_path_lfp_peripherie]\n"
            ]
        },
        {
            "cell_type": "code",
            "execution_count": 3,
            "metadata": {
                "azdata_cell_guid": "abd9990a-14c2-40a6-9c9d-052e54be92aa",
                "language": "python",
                "tags": []
            },
            "outputs": [
                {
                    "name": "stdout",
                    "output_type": "stream",
                    "text": [
                        "{'data/Spare part catalog - Corrugated Single Pass.txt': 'UTF-16', 'data/Spare part catalog - Habitat and Varijet.txt': 'UTF-16', 'data/Spare part catalog - Label.txt': 'UTF-16', 'data/Spare part catalog - LFP and Graphics.txt': 'UTF-16', 'data/Spare part catalog_LFP_Peripherie.txt': 'UTF-16'}\n"
                    ]
                }
            ],
            "source": [
                "# Erstellen einer Funktion, welche die Codierung der Files rausfindet\n",
                "\n",
                "def detect_encoding(path_list):\n",
                "    encoding_results = {}\n",
                "    # Durch die Liste iterieren\n",
                "    for file in path_list:\n",
                "        # Codierung der Datei erkennen\n",
                "        with open(file_path_lfp_peripherie, 'rb') as f:\n",
                "            result = chardet.detect(f.read())\n",
                "            file_encoding = result['encoding']\n",
                "\n",
                "        encoding_results[file] = file_encoding\n",
                "\n",
                "    return encoding_results\n",
                "\n",
                "results = detect_encoding(path_list)\n",
                "print(results)"
            ]
        },
        {
            "cell_type": "code",
            "execution_count": 12,
            "metadata": {
                "azdata_cell_guid": "1fffd673-ec02-403a-9d99-35f8e18a6657",
                "language": "python",
                "tags": []
            },
            "outputs": [
                {
                    "name": "stderr",
                    "output_type": "stream",
                    "text": [
                        "C:\\Users\\palmierima\\AppData\\Local\\Temp\\ipykernel_11796\\3252765702.py:6: DtypeWarning: Columns (40,41) have mixed types. Specify dtype option on import or set low_memory=False.\n",
                        "  df_lfp_graphics = pd.read_csv(file_path_lfp_graphics, delimiter='\\t', encoding='utf-16', skiprows=0)\n"
                    ]
                }
            ],
            "source": [
                "# Lese alle Files ein\n",
                "df_ceramic = pd.read_csv(file_path_ceramic, delimiter='\\t', encoding='utf-16', skiprows=0)\n",
                "df_corrugated = pd.read_csv(file_path_corrugated, delimiter='\\t', encoding='utf-16', skiprows=0)\n",
                "df_habitat_varijet = pd.read_csv(file_path_habitat_varijet, delimiter='\\t', encoding='utf-16', skiprows=0)\n",
                "df_label = pd.read_csv(file_path_label, delimiter='\\t', encoding='utf-16', skiprows=0)\n",
                "df_lfp_graphics = pd.read_csv(file_path_lfp_graphics, delimiter='\\t', encoding='utf-16', skiprows=0)\n",
                "df_lfp_peripherie = pd.read_csv(file_path_lfp_peripherie, delimiter='\\t', encoding='utf-16', skiprows=0)"
            ]
        },
        {
            "cell_type": "code",
            "execution_count": 14,
            "metadata": {},
            "outputs": [],
            "source": [
                "df_ceramic_filtered = df_ceramic[['Code', 'TOC element name', 'Vertriebstext DE', 'Vertriebstext EN', 'Nota_Association_2', 'Nota_Association_1', 'SerialNumer_Association',\n",
                "       'SerialNumer_Association.1', 'HTS Code', 'Herkunftsland', 'Gewicht', 'Gewicht Einheit', 'Path 2', 'Path 3', 'Path 4', 'Path 5']]"
            ]
        },
        {
            "cell_type": "code",
            "execution_count": 15,
            "metadata": {},
            "outputs": [],
            "source": [
                "df_lfp_graphics_filtered = df_lfp_graphics[['Code', 'Hauptknoten Name', 'Vertriebstext DE', 'Vertriebstext EN', 'Nota_Association_2', 'Nota_Association_1', 'SerialNumer_Association',\n",
                "       'SerialNumer_Association.1', 'HTS Code', 'Herkunftsland', 'Gewicht', 'Gewicht Einheit', 'Path 2', 'Path 3', 'Path 4', 'Path 5']]"
            ]
        },
        {
            "cell_type": "code",
            "execution_count": 16,
            "metadata": {},
            "outputs": [],
            "source": [
                "df_label_filtered = df_label[['Code', 'TOC element name', 'Vertriebstext DE', 'Vertriebstext EN', 'Nota_Association_2', 'Nota_Association_1', 'SerialNumer_Association',\n",
                "       'SerialNumer_Association.1', 'HTS Code', 'Herkunftsland', 'Gewicht', 'Gewicht Einheit', 'Path 2', 'Path 3', 'Path 4', 'Path 5']]"
            ]
        },
        {
            "cell_type": "code",
            "execution_count": 17,
            "metadata": {
                "azdata_cell_guid": "9eeb6e84-280e-438e-a6a3-22e7e2a8154c",
                "language": "python"
            },
            "outputs": [],
            "source": [
                "df_habitat_varijet_filtered = df_habitat_varijet[['Code', 'TOC element name', 'Vertriebstext DE', 'Vertriebstext EN', 'Nota_Association_2', 'Nota_Association_1', 'SerialNumer_Association',\n",
                "       'SerialNumer_Association.1', 'HTS Code', 'Herkunftsland', 'Gewicht', 'Gewicht Einheit', 'Path 2', 'Path 3', 'Path 4', 'Path 5']]"
            ]
        },
        {
            "cell_type": "code",
            "execution_count": 18,
            "metadata": {
                "azdata_cell_guid": "09b47310-99a8-4472-ad4c-651722c40473",
                "language": "python"
            },
            "outputs": [],
            "source": [
                "df_lfp_peripherie_filtered = df_lfp_peripherie[['Code', 'Hauptknoten Name', 'Vertriebstext DE', 'Vertriebstext EN', 'Nota_Association_2', 'Nota_Association_1', 'SerialNumer_Association',\n",
                "       'SerialNumer_Association.1', 'HTS Code', 'Herkunftsland', 'Gewicht', 'Gewicht Einheit']]"
            ]
        },
        {
            "cell_type": "code",
            "execution_count": 19,
            "metadata": {},
            "outputs": [
                {
                    "name": "stderr",
                    "output_type": "stream",
                    "text": [
                        "C:\\Users\\palmierima\\AppData\\Local\\Temp\\ipykernel_11796\\1077055862.py:2: SettingWithCopyWarning: \n",
                        "A value is trying to be set on a copy of a slice from a DataFrame\n",
                        "\n",
                        "See the caveats in the documentation: https://pandas.pydata.org/pandas-docs/stable/user_guide/indexing.html#returning-a-view-versus-a-copy\n",
                        "  df_ceramic_filtered.rename(columns={'TOC element name': 'Hauptknoten Name'}, inplace=True)\n",
                        "C:\\Users\\palmierima\\AppData\\Local\\Temp\\ipykernel_11796\\1077055862.py:3: SettingWithCopyWarning: \n",
                        "A value is trying to be set on a copy of a slice from a DataFrame\n",
                        "\n",
                        "See the caveats in the documentation: https://pandas.pydata.org/pandas-docs/stable/user_guide/indexing.html#returning-a-view-versus-a-copy\n",
                        "  df_label_filtered.rename(columns={'TOC element name': 'Hauptknoten Name'}, inplace=True)\n",
                        "C:\\Users\\palmierima\\AppData\\Local\\Temp\\ipykernel_11796\\1077055862.py:4: SettingWithCopyWarning: \n",
                        "A value is trying to be set on a copy of a slice from a DataFrame\n",
                        "\n",
                        "See the caveats in the documentation: https://pandas.pydata.org/pandas-docs/stable/user_guide/indexing.html#returning-a-view-versus-a-copy\n",
                        "  df_habitat_varijet_filtered.rename(columns={'TOC element name': 'Hauptknoten Name'}, inplace=True)\n"
                    ]
                }
            ],
            "source": [
                "# Harmonize the naming of the columns to append the tables\n",
                "df_ceramic_filtered.rename(columns={'TOC element name': 'Hauptknoten Name'}, inplace=True)\n",
                "df_label_filtered.rename(columns={'TOC element name': 'Hauptknoten Name'}, inplace=True)\n",
                "df_habitat_varijet_filtered.rename(columns={'TOC element name': 'Hauptknoten Name'}, inplace=True)"
            ]
        },
        {
            "cell_type": "code",
            "execution_count": 20,
            "metadata": {},
            "outputs": [
                {
                    "name": "stderr",
                    "output_type": "stream",
                    "text": [
                        "C:\\Users\\palmierima\\AppData\\Local\\Temp\\ipykernel_11796\\2117337888.py:2: SettingWithCopyWarning: \n",
                        "A value is trying to be set on a copy of a slice from a DataFrame.\n",
                        "Try using .loc[row_indexer,col_indexer] = value instead\n",
                        "\n",
                        "See the caveats in the documentation: https://pandas.pydata.org/pandas-docs/stable/user_guide/indexing.html#returning-a-view-versus-a-copy\n",
                        "  df_ceramic_filtered['loc'] = file_path_ceramic\n",
                        "C:\\Users\\palmierima\\AppData\\Local\\Temp\\ipykernel_11796\\2117337888.py:3: SettingWithCopyWarning: \n",
                        "A value is trying to be set on a copy of a slice from a DataFrame.\n",
                        "Try using .loc[row_indexer,col_indexer] = value instead\n",
                        "\n",
                        "See the caveats in the documentation: https://pandas.pydata.org/pandas-docs/stable/user_guide/indexing.html#returning-a-view-versus-a-copy\n",
                        "  df_lfp_graphics_filtered['loc'] = file_path_lfp_graphics\n",
                        "C:\\Users\\palmierima\\AppData\\Local\\Temp\\ipykernel_11796\\2117337888.py:4: SettingWithCopyWarning: \n",
                        "A value is trying to be set on a copy of a slice from a DataFrame.\n",
                        "Try using .loc[row_indexer,col_indexer] = value instead\n",
                        "\n",
                        "See the caveats in the documentation: https://pandas.pydata.org/pandas-docs/stable/user_guide/indexing.html#returning-a-view-versus-a-copy\n",
                        "  df_label_filtered['loc'] = file_path_label\n",
                        "C:\\Users\\palmierima\\AppData\\Local\\Temp\\ipykernel_11796\\2117337888.py:5: SettingWithCopyWarning: \n",
                        "A value is trying to be set on a copy of a slice from a DataFrame.\n",
                        "Try using .loc[row_indexer,col_indexer] = value instead\n",
                        "\n",
                        "See the caveats in the documentation: https://pandas.pydata.org/pandas-docs/stable/user_guide/indexing.html#returning-a-view-versus-a-copy\n",
                        "  df_habitat_varijet_filtered['loc'] = file_path_habitat_varijet\n",
                        "C:\\Users\\palmierima\\AppData\\Local\\Temp\\ipykernel_11796\\2117337888.py:6: SettingWithCopyWarning: \n",
                        "A value is trying to be set on a copy of a slice from a DataFrame.\n",
                        "Try using .loc[row_indexer,col_indexer] = value instead\n",
                        "\n",
                        "See the caveats in the documentation: https://pandas.pydata.org/pandas-docs/stable/user_guide/indexing.html#returning-a-view-versus-a-copy\n",
                        "  df_lfp_peripherie_filtered['loc'] = file_path_lfp_peripherie\n"
                    ]
                }
            ],
            "source": [
                "# Add the loc of the falies in the dataframe\n",
                "df_ceramic_filtered['loc'] = file_path_ceramic\n",
                "df_lfp_graphics_filtered['loc'] = file_path_lfp_graphics\n",
                "df_label_filtered['loc'] = file_path_label\n",
                "df_habitat_varijet_filtered['loc'] = file_path_habitat_varijet\n",
                "df_lfp_peripherie_filtered['loc'] = file_path_lfp_peripherie"
            ]
        },
        {
            "cell_type": "code",
            "execution_count": 21,
            "metadata": {},
            "outputs": [],
            "source": [
                "# Die DataFrames zusammenführen\n",
                "result_df = pd.concat([df_ceramic_filtered, df_lfp_graphics_filtered, df_label_filtered,\n",
                "                      df_habitat_varijet_filtered, df_lfp_peripherie_filtered], ignore_index=True)"
            ]
        },
        {
            "cell_type": "code",
            "execution_count": 36,
            "metadata": {},
            "outputs": [
                {
                    "name": "stdout",
                    "output_type": "stream",
                    "text": [
                        "Das DataFrame wurde im File 'ce_result_dataframe_20230724_123015.csv' gespeichert.\n"
                    ]
                }
            ],
            "source": [
                "# Erstellung der Datei\n",
                "## Generiere den aktuellen Zeitstempel\n",
                "timestamp = datetime.now().strftime(\"%Y%m%d_%H%M%S\")\n",
                "\n",
                "## Erstelle den Dateinamen mit Zeitstempel\n",
                "file_name = f\"ce_result_dataframe_{timestamp}.csv\"\n",
                "\n",
                "## Speichere das DataFrame als CSV-Datei im selben Ordner ab\n",
                "result_df.to_csv(file_name, index=False)\n",
                "\n",
                "print(f\"Das DataFrame wurde im File '{file_name}' gespeichert.\")"
            ]
        },
        {
            "cell_type": "code",
            "execution_count": 39,
            "metadata": {},
            "outputs": [
                {
                    "data": {
                        "text/html": [
                            "<div>\n",
                            "<style scoped>\n",
                            "    .dataframe tbody tr th:only-of-type {\n",
                            "        vertical-align: middle;\n",
                            "    }\n",
                            "\n",
                            "    .dataframe tbody tr th {\n",
                            "        vertical-align: top;\n",
                            "    }\n",
                            "\n",
                            "    .dataframe thead th {\n",
                            "        text-align: right;\n",
                            "    }\n",
                            "</style>\n",
                            "<table border=\"1\" class=\"dataframe\">\n",
                            "  <thead>\n",
                            "    <tr style=\"text-align: right;\">\n",
                            "      <th></th>\n",
                            "      <th>Code</th>\n",
                            "      <th>Hauptknoten Name</th>\n",
                            "      <th>Vertriebstext DE</th>\n",
                            "      <th>Vertriebstext EN</th>\n",
                            "      <th>Nota_Association_2</th>\n",
                            "      <th>Nota_Association_1</th>\n",
                            "      <th>SerialNumer_Association</th>\n",
                            "      <th>SerialNumer_Association.1</th>\n",
                            "      <th>HTS Code</th>\n",
                            "      <th>Herkunftsland</th>\n",
                            "      <th>Gewicht</th>\n",
                            "      <th>Gewicht Einheit</th>\n",
                            "      <th>loc</th>\n",
                            "    </tr>\n",
                            "  </thead>\n",
                            "  <tbody>\n",
                            "    <tr>\n",
                            "      <th>0</th>\n",
                            "      <td>SOTTO_PRODOTTO#$#CE_3931</td>\n",
                            "      <td>Schaltschrank</td>\n",
                            "      <td></td>\n",
                            "      <td></td>\n",
                            "      <td></td>\n",
                            "      <td></td>\n",
                            "      <td></td>\n",
                            "      <td></td>\n",
                            "      <td></td>\n",
                            "      <td></td>\n",
                            "      <td></td>\n",
                            "      <td></td>\n",
                            "      <td>data/Spare part catalog_LFP_Peripherie.txt</td>\n",
                            "    </tr>\n",
                            "    <tr>\n",
                            "      <th>1</th>\n",
                            "      <td>SOTTO_PRODOTTO#$#CE_3936</td>\n",
                            "      <td>Schaltschrank</td>\n",
                            "      <td></td>\n",
                            "      <td></td>\n",
                            "      <td></td>\n",
                            "      <td></td>\n",
                            "      <td></td>\n",
                            "      <td></td>\n",
                            "      <td></td>\n",
                            "      <td></td>\n",
                            "      <td></td>\n",
                            "      <td></td>\n",
                            "      <td>data/Spare part catalog_LFP_Peripherie.txt</td>\n",
                            "    </tr>\n",
                            "    <tr>\n",
                            "      <th>2</th>\n",
                            "      <td>SOTTO_PRODOTTO#$#CE_3944</td>\n",
                            "      <td>Schaltschrank</td>\n",
                            "      <td></td>\n",
                            "      <td></td>\n",
                            "      <td></td>\n",
                            "      <td></td>\n",
                            "      <td></td>\n",
                            "      <td></td>\n",
                            "      <td></td>\n",
                            "      <td></td>\n",
                            "      <td></td>\n",
                            "      <td></td>\n",
                            "      <td>data/Spare part catalog_LFP_Peripherie.txt</td>\n",
                            "    </tr>\n",
                            "    <tr>\n",
                            "      <th>3</th>\n",
                            "      <td>SOTTO_PRODOTTO#$#CE_3945</td>\n",
                            "      <td>Schaltschrank</td>\n",
                            "      <td></td>\n",
                            "      <td></td>\n",
                            "      <td></td>\n",
                            "      <td></td>\n",
                            "      <td></td>\n",
                            "      <td></td>\n",
                            "      <td></td>\n",
                            "      <td></td>\n",
                            "      <td></td>\n",
                            "      <td></td>\n",
                            "      <td>data/Spare part catalog_LFP_Peripherie.txt</td>\n",
                            "    </tr>\n",
                            "    <tr>\n",
                            "      <th>4</th>\n",
                            "      <td></td>\n",
                            "      <td>Part 1</td>\n",
                            "      <td></td>\n",
                            "      <td></td>\n",
                            "      <td></td>\n",
                            "      <td></td>\n",
                            "      <td></td>\n",
                            "      <td></td>\n",
                            "      <td></td>\n",
                            "      <td></td>\n",
                            "      <td></td>\n",
                            "      <td></td>\n",
                            "      <td>data/Spare part catalog_LFP_Peripherie.txt</td>\n",
                            "    </tr>\n",
                            "    <tr>\n",
                            "      <th>5</th>\n",
                            "      <td>Code</td>\n",
                            "      <td>Hauptknoten Name</td>\n",
                            "      <td>Vertriebstext DE</td>\n",
                            "      <td>Vertriebstext EN</td>\n",
                            "      <td>Nota_Association_2</td>\n",
                            "      <td>Nota_Association_1</td>\n",
                            "      <td>SerialNumer_Association</td>\n",
                            "      <td>SerialNumer_Association</td>\n",
                            "      <td>HTS Code</td>\n",
                            "      <td>Herkunftsland</td>\n",
                            "      <td>Gewicht</td>\n",
                            "      <td>Gewicht Einheit</td>\n",
                            "      <td>data/Spare part catalog_LFP_Peripherie.txt</td>\n",
                            "    </tr>\n",
                            "    <tr>\n",
                            "      <th>6</th>\n",
                            "      <td>1865188</td>\n",
                            "      <td>Teil 1</td>\n",
                            "      <td>Power Supply 24V 480W</td>\n",
                            "      <td>Power Supply 24V 480W</td>\n",
                            "      <td></td>\n",
                            "      <td></td>\n",
                            "      <td></td>\n",
                            "      <td></td>\n",
                            "      <td></td>\n",
                            "      <td></td>\n",
                            "      <td>0</td>\n",
                            "      <td></td>\n",
                            "      <td>data/Spare part catalog_LFP_Peripherie.txt</td>\n",
                            "    </tr>\n",
                            "    <tr>\n",
                            "      <th>7</th>\n",
                            "      <td>SOTTO_PRODOTTO#$#CE_3928</td>\n",
                            "      <td>Teil 1</td>\n",
                            "      <td></td>\n",
                            "      <td></td>\n",
                            "      <td></td>\n",
                            "      <td></td>\n",
                            "      <td></td>\n",
                            "      <td></td>\n",
                            "      <td></td>\n",
                            "      <td></td>\n",
                            "      <td></td>\n",
                            "      <td></td>\n",
                            "      <td>data/Spare part catalog_LFP_Peripherie.txt</td>\n",
                            "    </tr>\n",
                            "    <tr>\n",
                            "      <th>8</th>\n",
                            "      <td>-</td>\n",
                            "      <td>Teil 1</td>\n",
                            "      <td></td>\n",
                            "      <td></td>\n",
                            "      <td></td>\n",
                            "      <td></td>\n",
                            "      <td></td>\n",
                            "      <td></td>\n",
                            "      <td></td>\n",
                            "      <td></td>\n",
                            "      <td></td>\n",
                            "      <td></td>\n",
                            "      <td>data/Spare part catalog_LFP_Peripherie.txt</td>\n",
                            "    </tr>\n",
                            "    <tr>\n",
                            "      <th>9</th>\n",
                            "      <td>-</td>\n",
                            "      <td>Teil 1</td>\n",
                            "      <td></td>\n",
                            "      <td></td>\n",
                            "      <td></td>\n",
                            "      <td></td>\n",
                            "      <td></td>\n",
                            "      <td></td>\n",
                            "      <td></td>\n",
                            "      <td></td>\n",
                            "      <td></td>\n",
                            "      <td></td>\n",
                            "      <td>data/Spare part catalog_LFP_Peripherie.txt</td>\n",
                            "    </tr>\n",
                            "  </tbody>\n",
                            "</table>\n",
                            "</div>"
                        ],
                        "text/plain": [
                            "                       Code  Hauptknoten Name       Vertriebstext DE   \n",
                            "0  SOTTO_PRODOTTO#$#CE_3931     Schaltschrank                         \\\n",
                            "1  SOTTO_PRODOTTO#$#CE_3936     Schaltschrank                          \n",
                            "2  SOTTO_PRODOTTO#$#CE_3944     Schaltschrank                          \n",
                            "3  SOTTO_PRODOTTO#$#CE_3945     Schaltschrank                          \n",
                            "4                                      Part 1                          \n",
                            "5                      Code  Hauptknoten Name       Vertriebstext DE   \n",
                            "6                   1865188            Teil 1  Power Supply 24V 480W   \n",
                            "7  SOTTO_PRODOTTO#$#CE_3928            Teil 1                          \n",
                            "8                         -            Teil 1                          \n",
                            "9                         -            Teil 1                          \n",
                            "\n",
                            "        Vertriebstext EN  Nota_Association_2  Nota_Association_1   \n",
                            "0                                                                 \\\n",
                            "1                                                                  \n",
                            "2                                                                  \n",
                            "3                                                                  \n",
                            "4                                                                  \n",
                            "5       Vertriebstext EN  Nota_Association_2  Nota_Association_1   \n",
                            "6  Power Supply 24V 480W                                           \n",
                            "7                                                                  \n",
                            "8                                                                  \n",
                            "9                                                                  \n",
                            "\n",
                            "   SerialNumer_Association SerialNumer_Association.1  HTS Code  Herkunftsland   \n",
                            "0                                                                              \\\n",
                            "1                                                                               \n",
                            "2                                                                               \n",
                            "3                                                                               \n",
                            "4                                                                               \n",
                            "5  SerialNumer_Association   SerialNumer_Association  HTS Code  Herkunftsland   \n",
                            "6                                                                               \n",
                            "7                                                                               \n",
                            "8                                                                               \n",
                            "9                                                                               \n",
                            "\n",
                            "   Gewicht  Gewicht Einheit                                         loc  \n",
                            "0                            data/Spare part catalog_LFP_Peripherie.txt  \n",
                            "1                            data/Spare part catalog_LFP_Peripherie.txt  \n",
                            "2                            data/Spare part catalog_LFP_Peripherie.txt  \n",
                            "3                            data/Spare part catalog_LFP_Peripherie.txt  \n",
                            "4                            data/Spare part catalog_LFP_Peripherie.txt  \n",
                            "5  Gewicht  Gewicht Einheit  data/Spare part catalog_LFP_Peripherie.txt  \n",
                            "6        0                   data/Spare part catalog_LFP_Peripherie.txt  \n",
                            "7                            data/Spare part catalog_LFP_Peripherie.txt  \n",
                            "8                            data/Spare part catalog_LFP_Peripherie.txt  \n",
                            "9                            data/Spare part catalog_LFP_Peripherie.txt  "
                        ]
                    },
                    "execution_count": 39,
                    "metadata": {},
                    "output_type": "execute_result"
                }
            ],
            "source": [
                "df_lfp_peripherie_filtered.head(10)"
            ]
        }
    ],
    "metadata": {
        "kernelspec": {
            "display_name": "Python 3",
            "language": "python",
            "name": "python3"
        },
        "language_info": {
            "codemirror_mode": {
                "name": "ipython",
                "version": 3
            },
            "file_extension": ".py",
            "mimetype": "text/x-python",
            "name": "python",
            "nbconvert_exporter": "python",
            "pygments_lexer": "ipython3",
            "version": "3.11.3"
        }
    },
    "nbformat": 4,
    "nbformat_minor": 2
}
